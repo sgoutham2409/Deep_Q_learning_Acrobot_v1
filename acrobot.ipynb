{
 "cells": [
  {
   "cell_type": "markdown",
   "metadata": {},
   "source": [
    "The following code template comes with placeholders (marked with `YOUR CODE HERE`) and has to be filled with the appropriate logic as described in the function descriptions.\n",
    "Some cells consist of assertions about the expected functionality, and aid you in getting it right.\n",
    "They are not meant to be edited.\n",
    "Moreover, there are also hidden assertions that will test your environment for edge cases.\n",
    "Each correct assertion rewards you points for this assignment.\n",
    "\n",
    "Before you turn this problem in, make sure everything runs as expected. First, **restart the kernel** (in the menubar, select Kernel$\\rightarrow$Restart) and then **run all cells** (in the menubar, select Cell$\\rightarrow$Run All).\n",
    "\n",
    "Make sure you fill in any place that says `YOUR CODE HERE` or \"YOUR ANSWER HERE\", as well as your name and collaborators below:"
   ]
  },
  {
   "cell_type": "code",
   "execution_count": 2,
   "metadata": {},
   "outputs": [],
   "source": [
    "NAME = \"SHIVARAM GOUTHAM SURESH\"\n",
    "COLLABORATORS = \"PRAMOD MAHAJAN CHIKKABALLEKERE MANJUNATHA\""
   ]
  },
  {
   "cell_type": "markdown",
   "metadata": {},
   "source": [
    "_Please note that only one collaborator is allowed in all assignments, that is, only two persons per group. We expect independent submissions per group. All deviations will be sanctioned._"
   ]
  },
  {
   "cell_type": "markdown",
   "metadata": {},
   "source": [
    "---"
   ]
  },
  {
   "cell_type": "markdown",
   "metadata": {
    "deletable": false,
    "editable": false,
    "nbgrader": {
     "cell_type": "markdown",
     "checksum": "c994c243a71bd5c45a0e9ae72185c97a",
     "grade": false,
     "grade_id": "cell-04a1a10a0aa996a4",
     "locked": true,
     "schema_version": 3,
     "solution": false,
     "task": false
    }
   },
   "source": [
    "# Implement a DQN-Agent for the Acrobot"
   ]
  },
  {
   "cell_type": "markdown",
   "metadata": {
    "deletable": false,
    "editable": false,
    "nbgrader": {
     "cell_type": "markdown",
     "checksum": "337a2ab23773931e6638e817494bfd97",
     "grade": false,
     "grade_id": "cell-e3d949e0dd4bb821",
     "locked": true,
     "schema_version": 3,
     "solution": false,
     "task": false
    }
   },
   "source": [
    "# Introduction\n",
    "In this home assignment you are supposed to solve the [acrobot environment](https://gym.openai.com/envs/Acrobot-v1/) with a DQN agent.\n",
    "\n",
    "*The acrobot system includes two joints and two links, where the joint between the two links is actuated. Initially, the links are hanging downwards, and the goal is to swing the end of the lower link up to a given height.*\n",
    "\n",
    "However, we raise the bar on this environment by posing the task to balance the two joints upwards as long as possible instead of just reaching a certain height. \n",
    "\n",
    "**Please note that this is an ambitious control task and you may not expect your agent to actually balance the acrobot to an upward position permanently**.\n",
    "\n",
    "![](acrobot_example.gif)\n",
    "\n",
    "# DQN Agent\n",
    "A [Deep Q-Network](https://arxiv.org/abs/1312.5602) is the combination of tabular Q-Learning with a neural network as non-linear function approximator.\n",
    "Among approximating the Q-value with a certain parameter set $\\boldsymbol w$, a DQN agent relies on an _experience replay_ buffer.\n",
    "\n",
    "A certain amount of samples from the experience replay buffer is randomly drawn at each step to make up a mini-batch $\\mathcal D_b$, which contributes to the weight update.\n",
    "\n",
    "This procedure has following benefits:\n",
    "* Each sample is potentially used several times for weight updates, increasing the data efficiency.\n",
    "* Random sampling breaks up with the high correlation of consecutive environment observations, which tend to drift weight updates into a only temporarily expedient direction, potentially leading to weights diverge or oscillate. Update variance is effectively reduced.\n",
    "\n",
    "Since an experience replay buffer (or also *memory buffer*) makes the algorithm off-policy, Q-Learning lends itself to the weight updates.\n",
    "Note, that the memory buffer is of fixed size and contains merely the last observations.\n",
    "Prioritized sampling is not part of the [original algorithm](https://arxiv.org/abs/1312.5602), but has been [suggested not long after](https://arxiv.org/abs/1511.05952).\n",
    "\n",
    "The DQN, in [an improved form](https://www.nature.com/articles/nature14236), adds a twist to the weight updates:\n",
    "The loss $\\mathcal L(\\boldsymbol w)$ is calculated against a so-called *target network*, which is just the same DQN with an older snapshot of its weights, where the target network is updated with the current *online network* every few steps.\n",
    "\n",
    "$$\\mathcal L(\\boldsymbol w) = [(r + \\gamma \\text{max}_u \\hat q (x', u, \\boldsymbol w^-)) - \\hat q(x,u,\\boldsymbol w)]_{\\mathcal D_b}^2 $$\n",
    "\n",
    "with $\\boldsymbol w^-$ denoting the target network's weights.\n",
    "\n",
    "# Task Details\n",
    "\n",
    "The only external libraries allowed for the DQN implementation are:\n",
    "* Tensorflow/ Keras\n",
    "* Pytorch\n",
    "* Numpy\n",
    "* Scikit-Learn\n",
    "\n",
    "You can conduct a hyperparameter optimization to search for optimal parameters.\n",
    "\n",
    "**Please refrain from using readily implemented algorithms from GitHub, which, however, can be analyzed for inspiration and understanding of the algorithm of course.**\n",
    "\n",
    "### Point distribution\n",
    "\n",
    "* Feature engineering (3 Points)\n",
    "* Decide (3 points)\n",
    "* Deliberate(15 points)\n",
    "* Smoke-test (do train() and test() run without errors? 2 points)\n",
    "* After training, is the cumulative reward per episode on average over -100? (5 points)\n",
    "* Plot the learning curve, that is, the cumulated reward of each episode over the course of training (2 points)\n",
    "\n",
    "\n",
    "# 1. Compete with your DQN algorithm (28 points)\n",
    "\n",
    "Use the following templates for the DQN implementation. \n",
    "\n",
    "Note that the DQN class comes with a complete training and test routine. \n",
    "These routines will be used to evaluate your agent's performance and will be publicly ranked in a leaderboard after submission (showing matr. nr. only).\n",
    "It might be the case, that you are overly restricted by the train routine. In this case we allow for adapting this function to your needs.\n",
    "However, please refrain from adjusting the test routine.\n"
   ]
  },
  {
   "cell_type": "code",
   "execution_count": 3,
   "metadata": {
    "deletable": false,
    "editable": false,
    "nbgrader": {
     "cell_type": "code",
     "checksum": "3d0132acf3fbe5acf26c2acd39352f89",
     "grade": false,
     "grade_id": "cell-5d0340a98ad6b950",
     "locked": true,
     "schema_version": 3,
     "solution": false,
     "task": false
    }
   },
   "outputs": [],
   "source": [
    "import numpy as np\n",
    "import gym\n",
    "import random\n",
    "import time\n",
    "from collections import deque\n",
    "from tqdm.auto import tqdm\n",
    "import matplotlib.pyplot as plt"
   ]
  },
  {
   "cell_type": "code",
   "execution_count": 4,
   "metadata": {
    "deletable": false,
    "editable": false,
    "nbgrader": {
     "cell_type": "code",
     "checksum": "9ac7f53877cfb3fdc2bc792fe164e297",
     "grade": false,
     "grade_id": "cell-a6d28281e4807188",
     "locked": true,
     "schema_version": 3,
     "solution": false,
     "task": false
    }
   },
   "outputs": [],
   "source": [
    "class HardMode(gym.Wrapper):\n",
    "    \"\"\"Modified Acrobot: Reward is the negative cosine of both absolute angles.\n",
    "    An episode never terminates prematurely - the goal is to hold the two links \n",
    "    straight upwards as long as possible within a fix amount of steps per episode.\n",
    "    Instead of three actions, there are five for a fine-grained control\"\"\"\n",
    "    \n",
    "    def __init__(self, env, **kwargs):\n",
    "        new_actions = np.linspace(-.5, .5, 5).round(2).tolist()\n",
    "        env.env.AVAIL_TORQUE = new_actions\n",
    "        super().__init__(env, **kwargs)\n",
    "        self.action_space = gym.spaces.Discrete(len(new_actions))\n",
    "                               \n",
    "    def step(self, action):\n",
    "        state, rew, done, misc = super().step(action)\n",
    "        \n",
    "        # scale state\n",
    "        state[4] /= self.env.MAX_VEL_1\n",
    "        state[5] /= self.env.MAX_VEL_2\n",
    "        # All states are within [-1, 1] now\n",
    "        \n",
    "        # Having the inner link pointing up is twice as important.\n",
    "        s = self.env.state\n",
    "        rew = - .666*np.cos(s[0]) - .333*np.cos(s[1] + s[0])\n",
    "        \n",
    "        done = False  # never terminate internally\n",
    "        return state, rew, done, misc"
   ]
  },
  {
   "cell_type": "code",
   "execution_count": 5,
   "metadata": {
    "deletable": false,
    "nbgrader": {
     "cell_type": "code",
     "checksum": "d91d2787ecbe6e0a96d146d5661b4c49",
     "grade": true,
     "grade_id": "cell-93fdd470f4549e1c",
     "locked": false,
     "points": 21,
     "schema_version": 3,
     "solution": true,
     "task": false
    }
   },
   "outputs": [
    {
     "name": "stderr",
     "output_type": "stream",
     "text": [
      "Using TensorFlow backend.\n"
     ]
    }
   ],
   "source": [
    "# add your imports\n",
    "# YOUR CODE HERE\n",
    "from keras.metrics import mean_squared_error\n",
    "import tensorflow as tf\n",
    "from keras.models import Sequential\n",
    "from keras.layers import Dense\n",
    "from keras.optimizers import SGD,Adam\n",
    "from keras.losses import mean_squared_error\n",
    "from keras.initializers import RandomUniform, TruncatedNormal\n",
    "#raise NotImplementedError()\n",
    "\n",
    "# DQN Agent template\n",
    "class DQNController:\n",
    "    \"\"\"This class represents the DQN learning algorithm.\"\"\"\n",
    "\n",
    "    def __init__(self, environment):\n",
    "        self.env = environment\n",
    "        self.n_states = self.env.observation_space.shape[0] \n",
    "        \n",
    "        # Whatever attributes are needed go here\n",
    "        # YOUR CODE HERE\n",
    "        self.n_states = self.env.observation_space.shape\n",
    "        self.memory  = deque(maxlen=500000)\n",
    "        self.epsilon_min = 0.0001\n",
    "        self.gamma = 0.99\n",
    "        self.epsilon = 0.9\n",
    "        self.epsilon_decay = 0.95\n",
    "        self.learning_rate = 0.001\n",
    "        self.batch_size = 128\n",
    "        \n",
    "        self.online_network = Sequential(\n",
    "            [\n",
    "                Dense(512, activation=\"relu\", input_shape=self.n_states),\n",
    "                Dense(256, activation=\"relu\",),\n",
    "                Dense(self.env.action_space.n),\n",
    "            ]\n",
    "        )\n",
    "        self.target_network = Sequential(\n",
    "            [\n",
    "                Dense(512, activation=\"relu\",input_shape=self.n_states),\n",
    "                Dense(256, activation=\"relu\", ),\n",
    "                Dense(self.env.action_space.n),\n",
    "            ]\n",
    "        )\n",
    "        self.target_network.set_weights(self.online_network.get_weights())\n",
    "        self.online_network.compile(loss=\"mse\", optimizer=Adam(lr=self.learning_rate), metrics=['accuracy'])\n",
    "\n",
    "        #raise NotImplementedError()\n",
    "\n",
    "        # a boolean switch between epsilon-greedy (training) and greedy (testing)\n",
    "        self.training_mode = True\n",
    "\n",
    "    def preprocess(func):\n",
    "        \"\"\"This function wraps the agent's 'decide' and 'deliberate' function. \n",
    "        You can implement normalization, scaling, and feature engineering here.\n",
    "        This function is worth 3 points.\"\"\"\n",
    "        # YOUR CODE HERE\n",
    "        # States are normalised, rest of the things are directly handeled in delibrate function\n",
    "        return\n",
    "        #raise NotImplementedError()\n",
    "\n",
    "    #@preprocess\n",
    "    def decide(self, observation):\n",
    "        \"\"\"Take a decision.\n",
    "        This function is worth 3 points.\"\"\"\n",
    "\n",
    "        # YOUR CODE HERE\n",
    "        if self.epsilon < np.random.rand(1):\n",
    "            action = np.argmax(self.online_network.predict(np.array([observation])))\n",
    "        else:\n",
    "            action = random.choice(range(self.env.action_space.n))\n",
    "        #raise NotImplementedError()\n",
    "\n",
    "        return action\n",
    "\n",
    "    #@preprocess\n",
    "    def _deliberate(self, observation, reward=0, done=False):\n",
    "        \"\"\"Deliberate over what happened. This function contains the main\n",
    "        logic for the DQN algorithm.\n",
    "        This function is worth 15 points.\"\"\"\n",
    "\n",
    "        # YOUR CODE HERE\n",
    "        \n",
    "        if len(self.memory) < self.batch_size:\n",
    "            return\n",
    "        # YOUR CODE HERE\n",
    "        \n",
    "        # sample from experience\n",
    "        samples = random.sample(self.memory, self.batch_size)\n",
    "        \n",
    "        # seperating states and next_states for prediction\n",
    "        state_for_pred = []\n",
    "        next_state_for_pred = []         \n",
    "        for i in range(len(samples)):\n",
    "            state_for_pred.append(samples[i][0])\n",
    "            next_state_for_pred.append(samples[i][3])\n",
    "            \n",
    "        # Collect all predictions\n",
    "        next_pred = self.target_network.predict_on_batch(np.array(next_state_for_pred))   \n",
    "        current_pred = self.online_network.predict_on_batch(np.array(state_for_pred))\n",
    "        \n",
    "        # collecting states to fit\n",
    "        target_list = np.empty((0,self.env.action_space.n))\n",
    "        state_coll = []\n",
    "        \n",
    "        for sample,i in zip(samples,range(len(samples))):\n",
    "            state, action, reward, new_state = sample\n",
    "            state_coll.append(state)\n",
    "            target = [list(current_pred[i])]\n",
    "            if done:\n",
    "                target[0][action] = reward \n",
    "            else:\n",
    "                Next_Q_value = max(next_pred[i])\n",
    "                target[0][action] = reward + Next_Q_value * self.gamma\n",
    "            target_list = np.vstack((target_list,target))\n",
    "            \n",
    "        # Train model on batch\n",
    "        self.online_network.train_on_batch(np.array(state_coll), target_list)\n",
    "\n",
    "        #raise NotImplementedError()\n",
    "    # as mentioned above, training has been modified accordingly\n",
    "    def train(self, n_episodes=300, max_episode_len=512, visualize=True):\n",
    "        self.training_mode = True\n",
    "        train_log = {'cum_rew': []}\n",
    "        for ep in tqdm(range(n_episodes)):\n",
    "            state = self.env.reset() \n",
    "            k = 0\n",
    "            count = 0\n",
    "            cum_rew = 0\n",
    "            done = False\n",
    "            while not done:\n",
    "                action = self.decide(state)\n",
    "                next_state, reward, done, _ = self.env.step(action)\n",
    "                done = done or k == (max_episode_len - 1)  # force done after max_episodes\n",
    "                self.memory.append([state, action, reward, next_state])\n",
    "                self._deliberate(next_state, reward, done)\n",
    "                state = next_state\n",
    "                if count % 800 == 0:\n",
    "                    self.target_network.set_weights(self.online_network.get_weights())\n",
    "                k += 1\n",
    "                count += 1\n",
    "                cum_rew += reward\n",
    "                if visualize:\n",
    "                    self.env.render(mode='human')\n",
    "            train_log['cum_rew'].append(cum_rew)\n",
    "            \n",
    "            # Epsilon decay every episode\n",
    "            if self.epsilon > self.epsilon_min:\n",
    "                self.epsilon *= self.epsilon_decay\n",
    "            elif self.epsilon <= self.epsilon_min:\n",
    "                self.epsilon = self.epsilon_min\n",
    "                \n",
    "            # to be sure epsilon is at minimun before entering testing mode    \n",
    "            if ep == (n_episodes - 1):\n",
    "                self.epsilon = self.epsilon_min\n",
    "                print('epsilon set')\n",
    "                \n",
    "        return train_log\n",
    "\n",
    "    def test(self, n_episodes=20, max_episode_len=512, visualize=False):\n",
    "        self.training_mode = False\n",
    "        log = {'cum_rew': []}\n",
    "        for ep in tqdm(range(n_episodes)):\n",
    "            state = self.env.reset()\n",
    "            k = 0\n",
    "            cum_rew = 0\n",
    "            done = False\n",
    "            while not done:\n",
    "                action = self.decide(state)\n",
    "                state, reward, done, _ = self.env.step(action)\n",
    "                done = done or k == (max_episode_len - 1)  # force done after max_episodes\n",
    "                k+=1\n",
    "                cum_rew += reward\n",
    "                if visualize:\n",
    "                    self.env.render(mode='human')\n",
    "            log['cum_rew'].append(cum_rew)\n",
    "        print(f'tested for {ep+1} episodes')\n",
    "        return log"
   ]
  },
  {
   "cell_type": "code",
   "execution_count": 6,
   "metadata": {
    "deletable": false,
    "editable": false,
    "nbgrader": {
     "cell_type": "code",
     "checksum": "cb175d47046614b4dcc06b53c5486605",
     "grade": true,
     "grade_id": "cell-daf2cb46ed7ee816",
     "locked": true,
     "points": 2,
     "schema_version": 3,
     "solution": false,
     "task": false
    }
   },
   "outputs": [
    {
     "data": {
      "application/vnd.jupyter.widget-view+json": {
       "model_id": "aa727bb8094e4771bb697ca1268a52ad",
       "version_major": 2,
       "version_minor": 0
      },
      "text/plain": [
       "HBox(children=(FloatProgress(value=0.0, max=300.0), HTML(value='')))"
      ]
     },
     "metadata": {},
     "output_type": "display_data"
    },
    {
     "name": "stdout",
     "output_type": "stream",
     "text": [
      "epsilon set\n",
      "\n"
     ]
    },
    {
     "data": {
      "application/vnd.jupyter.widget-view+json": {
       "model_id": "7977021935d34f109a39ba34b9267686",
       "version_major": 2,
       "version_minor": 0
      },
      "text/plain": [
       "HBox(children=(FloatProgress(value=0.0, max=20.0), HTML(value='')))"
      ]
     },
     "metadata": {},
     "output_type": "display_data"
    },
    {
     "name": "stdout",
     "output_type": "stream",
     "text": [
      "\n",
      "tested for 20 episodes\n"
     ]
    }
   ],
   "source": [
    "agent = DQNController(HardMode(gym.make('Acrobot-v1')))\n",
    "train_logs = agent.train(visualize=False)\n",
    "test_logs = agent.test(visualize=False)  # Set visualize to True for render mode"
   ]
  },
  {
   "cell_type": "code",
   "execution_count": 7,
   "metadata": {
    "deletable": false,
    "editable": false,
    "nbgrader": {
     "cell_type": "code",
     "checksum": "9e08dd98e8060080c9ac4e366e25fdb9",
     "grade": true,
     "grade_id": "cell-c46f3c164b46a5cf",
     "locked": true,
     "points": 0,
     "schema_version": 3,
     "solution": false,
     "task": false
    }
   },
   "outputs": [],
   "source": [
    "# hidden checks. Ignore this cell."
   ]
  },
  {
   "cell_type": "code",
   "execution_count": 8,
   "metadata": {
    "deletable": false,
    "editable": false,
    "nbgrader": {
     "cell_type": "code",
     "checksum": "7fa6d6376a73545e14c7ecfe398c85c7",
     "grade": true,
     "grade_id": "cell-26260c08f6a259d7",
     "locked": true,
     "points": 5,
     "schema_version": 3,
     "solution": false,
     "task": false
    }
   },
   "outputs": [],
   "source": [
    "# hidden checks. Ignore this cell."
   ]
  },
  {
   "cell_type": "markdown",
   "metadata": {
    "deletable": false,
    "editable": false,
    "nbgrader": {
     "cell_type": "markdown",
     "checksum": "d2cbeccad334d2ae0700848d3887fcbb",
     "grade": false,
     "grade_id": "cell-e61d729fc446c24a",
     "locked": true,
     "points": 2,
     "schema_version": 3,
     "solution": false,
     "task": true
    }
   },
   "source": [
    "## Plot the learning curve (2 points)\n",
    "Illustrate the cumulated reward per episode during training. Focus on readability and proper labeling. "
   ]
  },
  {
   "cell_type": "code",
   "execution_count": 13,
   "metadata": {},
   "outputs": [
    {
     "data": {
      "image/png": "[encoded data removed]",
      "text/plain": [
       "<Figure size 432x288 with 1 Axes>"
      ]
     },
     "metadata": {
      "needs_background": "light"
     },
     "output_type": "display_data"
    }
   ],
   "source": [
    "plt.plot(train_logs['cum_rew'])\n",
    "plt.xlabel('# of Episodes')\n",
    "plt.ylabel('cumulative_reward')\n",
    "plt.grid()"
   ]
  },
  {
   "cell_type": "code",
   "execution_count": 19,
   "metadata": {},
   "outputs": [
    {
     "data": {
      "text/plain": [
       "-44.912237840982165"
      ]
     },
     "execution_count": 19,
     "metadata": {},
     "output_type": "execute_result"
    }
   ],
   "source": [
    "avg_test = np.mean(np.array(test_logs['cum_rew']))\n",
    "avg_test"
   ]
  }
 ],
 "metadata": {
  "kernelspec": {
   "display_name": "Python 3",
   "language": "python",
   "name": "python3"
  },
  "language_info": {
   "codemirror_mode": {
    "name": "ipython",
    "version": 3
   },
   "file_extension": ".py",
   "mimetype": "text/x-python",
   "name": "python",
   "nbconvert_exporter": "python",
   "pygments_lexer": "ipython3",
   "version": "3.7.6"
  }
 },
 "nbformat": 4,
 "nbformat_minor": 4
}
